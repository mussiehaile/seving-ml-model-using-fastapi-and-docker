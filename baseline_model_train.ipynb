{
 "cells": [
  {
   "cell_type": "code",
   "execution_count": null,
   "metadata": {},
   "outputs": [],
   "source": [
    "from evidently import ColumnMapping\n",
    "from evidently.report import Report\n",
    "from evidently.metrics import ColumnDriftMetric, DatasetDriftMetric, DatasetMissingValuesMetric\n",
    "from sklearn.metrics import mean_absolute_error, mean_absolute_percentage_error\n",
    "from sklearn.model_selection import train_test_split\n",
    "from sklearn.model_selection import GridSearchCV\n",
    "from sklearn.linear_model import LogisticRegression\n",
    "from sklearn.preprocessing import StandardScaler\n",
    "from sklearn.ensemble import RandomForestClassifier \n",
    "from sklearn.linear_model import LinearRegression\n",
    "from sklearn.tree import DecisionTreeClassifier\n",
    "from matplotlib import pyplot as plt\n",
    "from sklearn import metrics\n",
    "from sklearn.metrics import accuracy_score \n",
    "from prefect import flow, task\n",
    "from joblib import load, dump\n",
    "from tqdm import tqdm\n",
    "import pandas as pd \n",
    "import joblib\n",
    "import mlflow\n",
    "import datetime\n",
    "import requests"
   ]
  },
  {
   "cell_type": "code",
   "execution_count": 37,
   "metadata": {},
   "outputs": [
    {
     "name": "stdout",
     "output_type": "stream",
     "text": [
      "Shape of X_train: (5600, 8)\n",
      "Shape of y_train: (5600,)\n",
      "Shape of X_test: (1400, 8)\n",
      "Shape of y_test: (1400,)\n"
     ]
    }
   ],
   "source": [
    "df = pd.read_csv('/home/mussie/Music/home projects/nice_one/seving-ml-model-using-fastapi-and-docker/target.csv')\n",
    "df = df.drop_duplicates()\n",
    "df = df.drop(columns=['customer_id','country','gender'],axis =1)\n",
    "    \n",
    "train_data = df[:7000]\n",
    "val_data = df[7000:]\n",
    "\n",
    "\n",
    "target = \"churn\"\n",
    "num_features = ['credit_score', 'age', 'tenure', 'balance', 'products_number','credit_card', 'active_member', 'estimated_salary']\n",
    "cat_features =[]\n",
    "    \n",
    "X = train_data.drop('churn', axis=1)\n",
    "y = train_data['churn']\n",
    "\n",
    "X_train, X_test, y_train, y_test = train_test_split(X, y, test_size=0.2, random_state=42) \n",
    "\n",
    "    # Print the shapes of the arrays\n",
    "print(\"Shape of X_train:\", X_train.shape)\n",
    "print(\"Shape of y_train:\", y_train.shape)\n",
    "print(\"Shape of X_test:\", X_test.shape)\n",
    "print(\"Shape of y_test:\", y_test.shape)\n",
    "    "
   ]
  },
  {
   "cell_type": "code",
   "execution_count": 38,
   "metadata": {},
   "outputs": [],
   "source": [
    " # Train DecisionTreeClassifier\n",
    "\n",
    "dt = DecisionTreeClassifier(random_state=1)\n",
    "\n",
    "dt_param_grid = {\n",
    "        'max_depth': [3, 5, 7, 9, 11, 13],\n",
    "        'criterion': ['gini', 'entropy']\n",
    "    }\n",
    "\n",
    "dt_gs = GridSearchCV(\n",
    "        estimator=dt,\n",
    "        param_grid=dt_param_grid,\n",
    "        cv=5,\n",
    "        n_jobs=1,\n",
    "        scoring='accuracy',\n",
    "        verbose=0\n",
    "    )\n",
    "dt_model = dt_gs.fit(X_train, y_train)"
   ]
  },
  {
   "cell_type": "code",
   "execution_count": 39,
   "metadata": {},
   "outputs": [
    {
     "name": "stdout",
     "output_type": "stream",
     "text": [
      "Train Accuracy: 0.8573214285714286\n",
      "Test Accuracy: 0.8521428571428571\n"
     ]
    }
   ],
   "source": [
    "# Train prediction\n",
    "y_train_pred = dt_model.predict(X_train)\n",
    "train_accuracy = accuracy_score(y_train, y_train_pred)\n",
    "print(\"Train Accuracy:\", train_accuracy)\n",
    "\n",
    "# Test prediction\n",
    "y_test_pred = dt_model.predict(X_test)\n",
    "test_accuracy = accuracy_score(y_test, y_test_pred)\n",
    "print(\"Test Accuracy:\", test_accuracy)"
   ]
  },
  {
   "cell_type": "code",
   "execution_count": 40,
   "metadata": {},
   "outputs": [
    {
     "name": "stdout",
     "output_type": "stream",
     "text": [
      "Train MAE: 0.14267857142857143\n",
      "Test MAE: 0.14785714285714285\n"
     ]
    }
   ],
   "source": [
    "# Train MAE\n",
    "train_mae = mean_absolute_error(y_train, y_train_pred)\n",
    "print(\"Train MAE:\", train_mae)\n",
    "\n",
    "# Test MAE\n",
    "test_mae = mean_absolute_error(y_test, y_test_pred)\n",
    "print(\"Test MAE:\", test_mae)"
   ]
  },
  {
   "cell_type": "code",
   "execution_count": 41,
   "metadata": {},
   "outputs": [],
   "source": [
    "import joblib\n",
    "\n",
    "# Assuming 'dt_model' is your trained Decision Tree model\n",
    "model_path = '/home/mussie/Music/home projects/nice_one/seving-ml-model-using-fastapi-and-docker/model.joblib'\n",
    "\n",
    "with open(model_path, 'wb') as f_out:\n",
    "    joblib.dump(dt_model, f_out)\n"
   ]
  },
  {
   "cell_type": "code",
   "execution_count": 43,
   "metadata": {},
   "outputs": [],
   "source": [
    "data = '/home/mussie/Music/home projects/nice_one/seving-ml-model-using-fastapi-and-docker/data'\n",
    "val_data.to_parquet('data/reference.csv')"
   ]
  },
  {
   "cell_type": "code",
   "execution_count": null,
   "metadata": {},
   "outputs": [],
   "source": [
    "column_mapping = ColumnMapping(\n",
    "    target=None,\n",
    "    prediction='prediction',\n",
    "    numerical_features=num_features,\n",
    "    categorical_features=cat_features\n",
    ")"
   ]
  }
 ],
 "metadata": {
  "kernelspec": {
   "display_name": "myenv",
   "language": "python",
   "name": "python3"
  },
  "language_info": {
   "codemirror_mode": {
    "name": "ipython",
    "version": 3
   },
   "file_extension": ".py",
   "mimetype": "text/x-python",
   "name": "python",
   "nbconvert_exporter": "python",
   "pygments_lexer": "ipython3",
   "version": "3.9.16"
  },
  "orig_nbformat": 4
 },
 "nbformat": 4,
 "nbformat_minor": 2
}
